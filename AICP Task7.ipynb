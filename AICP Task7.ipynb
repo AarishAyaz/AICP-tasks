{
 "cells": [
  {
   "cell_type": "code",
   "execution_count": null,
   "id": "72a10ac6",
   "metadata": {},
   "outputs": [
    {
     "name": "stdout",
     "output_type": "stream",
     "text": [
      "Enter the name of charity 1: 3\n",
      "Enter the name of charity 2: 1\n",
      "Enter the name of charity 3: 2\n",
      "\n",
      "Charities:\n",
      "1. 3\n",
      "2. 1\n",
      "3. 2\n",
      "Enter the number of the chosen charity (1, 2, or 3, -1 to show totals): 3\n",
      "Enter the value of the customer's shopping bill: 2\n",
      "Donation to 2: $0.02\n",
      "Enter the number of the chosen charity (1, 2, or 3, -1 to show totals): 1\n",
      "Enter the value of the customer's shopping bill: 1\n",
      "Donation to 3: $0.01\n",
      "Enter the number of the chosen charity (1, 2, or 3, -1 to show totals): 2\n",
      "Enter the value of the customer's shopping bill: 3\n",
      "Donation to 1: $0.03\n"
     ]
    }
   ],
   "source": [
    "# Constants\n",
    "NUM_CHARITIES = 3\n",
    "\n",
    "# Function to set up the donation system\n",
    "def setup_donation_system():\n",
    "    charities = []\n",
    "    for i in range(NUM_CHARITIES):\n",
    "        charity_name = input(f\"Enter the name of charity {i + 1}: \")\n",
    "        charities.append(charity_name)\n",
    "\n",
    "    print(\"\\nCharities:\")\n",
    "    for i, charity in enumerate(charities, 1):\n",
    "        print(f\"{i}. {charity}\")\n",
    "\n",
    "    return charities\n",
    "\n",
    "\n",
    "# Function to record and total each donation\n",
    "def record_and_total_donation(charities, charity_totals):\n",
    "    while True:\n",
    "        try:\n",
    "            charity_choice = int(input(\"Enter the number of the chosen charity (1, 2, or 3, -1 to show totals): \"))\n",
    "        except ValueError:\n",
    "            print(\"Error: Invalid input. Please enter a valid number.\")\n",
    "            continue\n",
    "\n",
    "        if charity_choice == -1:\n",
    "            show_totals(charities, charity_totals)\n",
    "            break\n",
    "\n",
    "        if 1 <= charity_choice <= NUM_CHARITIES:\n",
    "            shopping_bill = float(input(\"Enter the value of the customer's shopping bill: \"))\n",
    "            donation = shopping_bill * 0.01\n",
    "            charity_totals[charity_choice - 1] += donation\n",
    "            print(f\"Donation to {charities[charity_choice - 1]}: ${donation:.2f}\")\n",
    "        else:\n",
    "            print(\"Error: Invalid charity choice. Please enter 1, 2, or 3.\")\n",
    "\n",
    "\n",
    "# Function to show the totals so far\n",
    "def show_totals(charities, charity_totals):\n",
    "    sorted_totals = sorted(zip(charities, charity_totals), key=lambda x: x[1], reverse=True)\n",
    "\n",
    "    grand_total = sum(charity_totals)\n",
    "\n",
    "    print(\"\\nCharity Totals:\")\n",
    "    for charity, total in sorted_totals:\n",
    "        print(f\"{charity}: ${total:.2f}\")\n",
    "\n",
    "    print(\"\\nGRAND TOTAL DONATED TO CHARITY:\", grand_total)\n",
    "\n",
    "\n",
    "# Main program\n",
    "charities_list = setup_donation_system()\n",
    "charity_totals_list = [0] * NUM_CHARITIES\n",
    "\n",
    "while True:\n",
    "    record_and_total_donation(charities_list, charity_totals_list)\n",
    "    continue_donating = input(\"Do you want to record another donation? (yes/no): \").lower()\n",
    "    if continue_donating != 'yes':\n",
    "        break"
   ]
  },
  {
   "cell_type": "code",
   "execution_count": null,
   "id": "aef7b199",
   "metadata": {},
   "outputs": [],
   "source": []
  }
 ],
 "metadata": {
  "kernelspec": {
   "display_name": "Python 3 (ipykernel)",
   "language": "python",
   "name": "python3"
  },
  "language_info": {
   "codemirror_mode": {
    "name": "ipython",
    "version": 3
   },
   "file_extension": ".py",
   "mimetype": "text/x-python",
   "name": "python",
   "nbconvert_exporter": "python",
   "pygments_lexer": "ipython3",
   "version": "3.11.4"
  }
 },
 "nbformat": 4,
 "nbformat_minor": 5
}
