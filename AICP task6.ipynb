{
 "cells": [
  {
   "cell_type": "code",
   "execution_count": null,
   "id": "a1bbe88c",
   "metadata": {},
   "outputs": [
    {
     "name": "stdout",
     "output_type": "stream",
     "text": [
      "Enter the number of sacks of cement: 3\n",
      "Enter the number of sacks of gravel: 4\n",
      "Enter the number of sacks of sand: 1\n",
      "Enter contents (C for cement, G for gravel, S for sand): s\n",
      "Enter weight (in kilograms): 15\n",
      "Error: Invalid weight. Sack rejected.\n",
      "Enter contents (C for cement, G for gravel, S for sand): c\n",
      "Enter weight (in kilograms): 50\n",
      "Error: Invalid weight. Sack rejected.\n",
      "Enter contents (C for cement, G for gravel, S for sand): g\n",
      "Enter weight (in kilograms): 50\n",
      "Sack accepted - Contents: G, Weight: 50.0 kg\n"
     ]
    }
   ],
   "source": [
    "# Constants dexlare\n",
    "COST_CEMENT = 3\n",
    "COST_GRAVEL = 2\n",
    "COST_SAND = 2\n",
    "SPECIAL_PACK_PRICE = 10\n",
    "\n",
    "# Function to check the contents and weight of a single sack\n",
    "def check_single_sack():\n",
    "    contents = input(\"Enter contents (C for cement, G for gravel, S for sand): \").upper()\n",
    "    weight = float(input(\"Enter weight (in kilograms): \"))\n",
    "\n",
    "    # Check contents\n",
    "    if contents not in ['C', 'G', 'S']:\n",
    "        print(\"Error: Invalid contents. Sack rejected.\")\n",
    "        return\n",
    "\n",
    "    # Check weight\n",
    "    if (contents == 'C' and not 24.9 < weight < 25.1) or \\\n",
    "       ((contents == 'G' or contents == 'S') and not 49.9 < weight < 50.1):\n",
    "        print(\"Error: Invalid weight. Sack rejected.\")\n",
    "        return\n",
    "\n",
    "    print(f\"Sack accepted - Contents: {contents}, Weight: {weight} kg\")\n",
    "\n",
    "\n",
    "# Function to check a customer's order for delivery\n",
    "def check_customer_order():\n",
    "    total_weight = 0\n",
    "    sacks_rejected = 0\n",
    "\n",
    "    num_cement = int(input(\"Enter the number of sacks of cement: \"))\n",
    "    num_gravel = int(input(\"Enter the number of sacks of gravel: \"))\n",
    "    num_sand = int(input(\"Enter the number of sacks of sand: \"))\n",
    "\n",
    "    for _ in range(num_cement):\n",
    "        check_result = check_single_sack()\n",
    "        if check_result is None:\n",
    "            total_weight += 25  # Update total weight for cement\n",
    "\n",
    "    for _ in range(num_gravel):\n",
    "        check_result = check_single_sack()\n",
    "        if check_result is None:\n",
    "            total_weight += 50  # Update total weight for gravel\n",
    "\n",
    "    for _ in range(num_sand):\n",
    "        check_result = check_single_sack()\n",
    "        if check_result is None:\n",
    "            total_weight += 50  # Update total weight for sand\n",
    "\n",
    "    return total_weight\n",
    "\n",
    "\n",
    "# Function to calculate the price for a customer's order\n",
    "def calculate_order_price(total_weight):\n",
    "    num_special_packs = min(\n",
    "        total_weight // (25 + 2 * 50),  # Calculate the number of special packs\n",
    "        int(check_single_sack() is None)  # Special pack can only be added if one sack is accepted\n",
    "    )\n",
    "\n",
    "    regular_price = num_cement * COST_CEMENT + num_gravel * COST_GRAVEL + num_sand * COST_SAND\n",
    "    discount_price = regular_price - num_special_packs * SPECIAL_PACK_PRICE\n",
    "\n",
    "    print(f\"Regular Price: ${regular_price}\")\n",
    "    if num_special_packs > 0:\n",
    "        print(f\"Discount Price: ${discount_price} (You saved ${regular_price - discount_price})\")\n",
    "\n",
    "\n",
    "# Main program\n",
    "total_weight = check_customer_order()\n",
    "calculate_order_price(total_weight)"
   ]
  },
  {
   "cell_type": "code",
   "execution_count": null,
   "id": "47af88f2",
   "metadata": {},
   "outputs": [],
   "source": []
  },
  {
   "cell_type": "code",
   "execution_count": null,
   "id": "9105ad68",
   "metadata": {},
   "outputs": [],
   "source": []
  }
 ],
 "metadata": {
  "kernelspec": {
   "display_name": "Python 3 (ipykernel)",
   "language": "python",
   "name": "python3"
  },
  "language_info": {
   "codemirror_mode": {
    "name": "ipython",
    "version": 3
   },
   "file_extension": ".py",
   "mimetype": "text/x-python",
   "name": "python",
   "nbconvert_exporter": "python",
   "pygments_lexer": "ipython3",
   "version": "3.11.4"
  }
 },
 "nbformat": 4,
 "nbformat_minor": 5
}
