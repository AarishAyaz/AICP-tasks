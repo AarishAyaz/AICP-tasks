{
 "cells": [
  {
   "cell_type": "code",
   "execution_count": 2,
   "id": "6f18414e",
   "metadata": {},
   "outputs": [
    {
     "name": "stdout",
     "output_type": "stream",
     "text": [
      "Enter the last digit of your CNIC: 8\n",
      "Menu:\n",
      "Enter 1 to Calculate and display area, perimeter, and sum of angles of hexagon.\n",
      "Eter 2 to Calculate and display area and perimeter of square.\n",
      "Press any other key to exit.\n",
      "Enter your choice: 1\n",
      "Area of hexagon is 20.784\n",
      "Perimeter of hexagon is 48\n",
      "Sum of angles of hexagon is 720\n"
     ]
    }
   ],
   "source": [
    "class Hexagon:\n",
    "    def _init_(self, side_length):\n",
    "        self.side_length = side_length\n",
    "\n",
    "    def calcArea(self):\n",
    "        area = 1.5 * 1.732 * self.side_length\n",
    "        return area\n",
    "\n",
    "    def calcPeri(self):\n",
    "        peri = 6 * self.side_length\n",
    "        return peri\n",
    "\n",
    "    def calcAngleSum(self):\n",
    "        angle_sum = 6 * 120\n",
    "        return angle_sum\n",
    "\n",
    "    def display(self):\n",
    "        print(\"Area of hexagon is\", self.calcArea())\n",
    "        print(\"Perimeter of hexagon is\", self.calcPeri())\n",
    "        print(\"Sum of angles of hexagon is\", self.calcAngleSum())\n",
    "\n",
    "class Square:\n",
    "    def _init_(self, side_length):\n",
    "        self.side_length = side_length\n",
    "\n",
    "    def calcArea(self):\n",
    "        area = self.side_length ** 2\n",
    "        return area\n",
    "\n",
    "    def calcPeri(self):\n",
    "        peri = 4 * self.side_length\n",
    "        return peri\n",
    "\n",
    "    def display(self):\n",
    "        print(\"Area of square is\", self.calcArea())\n",
    "        print(\"Perimeter of square is\", self.calcPeri())\n",
    "\n",
    "# Get the last digit of CNIC\n",
    "cnic_last_digit = int(input(\"Enter the last digit of your CNIC: \"))\n",
    "\n",
    "# Create hexagon object\n",
    "hexagon = Hexagon()\n",
    "hexagon.side_length=cnic_last_digit\n",
    "\n",
    "# Create square object\n",
    "square = Square()\n",
    "square.side_length=cnic_last_digit\n",
    "\n",
    "# Display the menu\n",
    "print(\"Menu:\")\n",
    "print(\"Enter 1 to Calculate and display area, perimeter, and sum of angles of hexagon.\")\n",
    "print(\"Eter 2 to Calculate and display area and perimeter of square.\")\n",
    "print(\"Press any other key to exit.\")\n",
    "\n",
    "# Get the user's choice\n",
    "choice = input(\"Enter your choice: \")\n",
    "\n",
    "# Process the user's choice\n",
    "if choice == \"1\":\n",
    "    hexagon.display()\n",
    "elif choice == \"2\":\n",
    "    square.display()\n",
    "else:\n",
    "    print(\"Invalid input. Please choose from the given options.\")"
   ]
  },
  {
   "cell_type": "code",
   "execution_count": null,
   "id": "380556b1",
   "metadata": {},
   "outputs": [],
   "source": []
  }
 ],
 "metadata": {
  "kernelspec": {
   "display_name": "Python 3 (ipykernel)",
   "language": "python",
   "name": "python3"
  },
  "language_info": {
   "codemirror_mode": {
    "name": "ipython",
    "version": 3
   },
   "file_extension": ".py",
   "mimetype": "text/x-python",
   "name": "python",
   "nbconvert_exporter": "python",
   "pygments_lexer": "ipython3",
   "version": "3.11.4"
  }
 },
 "nbformat": 4,
 "nbformat_minor": 5
}
