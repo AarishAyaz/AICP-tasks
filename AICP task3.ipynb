{
 "cells": [
  {
   "cell_type": "code",
   "execution_count": 3,
   "id": "ca290c35",
   "metadata": {},
   "outputs": [
    {
     "name": "stdout",
     "output_type": "stream",
     "text": [
      "\n",
      " My STUDENT ID is Aarish_15\n",
      "Enter Your Choice\n",
      "Press 1 to display the bill of Slab1 and Slab2.\n",
      "Press 2 to display the bill of Slab3\n",
      "Press any other key to exit\n",
      "1\n",
      "Bill for slab1 is:\n",
      "550  650  750  \n",
      " Bil for slab2 is:\n",
      "1800 2250 2550 "
     ]
    }
   ],
   "source": [
    "student_id= \"Aarish_15\"\n",
    "electricity_data=[\n",
    "    [550,650,750],\n",
    "    [1800,2250,2550],\n",
    "    [4200,4600,4800]\n",
    "]\n",
    "def costSlab1():\n",
    "    print(\"Bill for slab1 is:\")\n",
    "    for cost in electricity_data[0]:\n",
    "        print(cost, end= \"  \")\n",
    "        \n",
    "def costSlab2():\n",
    "    print(\"\\n Bil for slab2 is:\")\n",
    "    for cost in electricity_data[1]:\n",
    "        print(cost, end=\" \")\\\n",
    "\n",
    "def costSlab3():\n",
    "        print(\"\\n Bill for slab3 is:\")\n",
    "        for cost in electricity_data[2]:\n",
    "            print(cost, end=\" \")\n",
    "\n",
    "while True:\n",
    "    print(\"\\n My STUDENT ID is\", student_id)\n",
    "    print(\"Enter Your Choice\")\n",
    "    print(\"Press 1 to display the bill of Slab1 and Slab2.\")\n",
    "    print(\"Press 2 to display the bill of Slab3\")\n",
    "    print(\"Press any other key to exit\")\n",
    "    \n",
    "    choice = input()\n",
    "    if choice == \"1\":\n",
    "            costSlab1()\n",
    "            costSlab2()\n",
    "    elif choice == \"2\":\n",
    "            costSlab3()\n",
    "    else:\n",
    "            print(\"Program TERMINATED\")\n",
    "    break\n",
    "        "
   ]
  },
  {
   "cell_type": "code",
   "execution_count": null,
   "id": "76027af1",
   "metadata": {},
   "outputs": [],
   "source": []
  },
  {
   "cell_type": "code",
   "execution_count": null,
   "id": "e45a506a",
   "metadata": {},
   "outputs": [],
   "source": []
  }
 ],
 "metadata": {
  "kernelspec": {
   "display_name": "Python 3 (ipykernel)",
   "language": "python",
   "name": "python3"
  },
  "language_info": {
   "codemirror_mode": {
    "name": "ipython",
    "version": 3
   },
   "file_extension": ".py",
   "mimetype": "text/x-python",
   "name": "python",
   "nbconvert_exporter": "python",
   "pygments_lexer": "ipython3",
   "version": "3.11.4"
  }
 },
 "nbformat": 4,
 "nbformat_minor": 5
}
